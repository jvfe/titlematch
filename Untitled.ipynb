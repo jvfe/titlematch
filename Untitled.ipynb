{
 "cells": [
  {
   "cell_type": "code",
   "execution_count": 12,
   "metadata": {},
   "outputs": [
    {
     "data": {
      "text/plain": [
       "'https://www.wikidata.org/w/api.php?action=query&list=search&srsearch=%22human%20beta%20cell%22&srlimit=500&srprop=size&formatversion=2&format=json'"
      ]
     },
     "execution_count": 12,
     "metadata": {},
     "output_type": "execute_result"
    }
   ],
   "source": [
    "import requests\n",
    "\n",
    "\n",
    "term = \"human beta cell\"\n",
    "term = term.replace(\" \",\"%20\")\n",
    "term = \"%22\" +term + \"%22\"\n",
    "\n",
    "url = f\"https://www.wikidata.org/w/api.php?action=query&list=search&srsearch={term}&srlimit=500&srprop=size&formatversion=2&format=json\"\n",
    "url"
   ]
  },
  {
   "cell_type": "code",
   "execution_count": 13,
   "metadata": {},
   "outputs": [],
   "source": [
    "r = requests.get(url)"
   ]
  },
  {
   "cell_type": "code",
   "execution_count": 14,
   "metadata": {},
   "outputs": [
    {
     "data": {
      "text/plain": [
       "'{\"batchcomplete\":true,\"query\":{\"searchinfo\":{\"totalhits\":57},\"search\":[{\"ns\":0,\"title\":\"Q24293466\",\"pageid\":26265321,\"size\":119791},{\"ns\":0,\"title\":\"Q28742133\",\"pageid\":30401277,\"size\":66384},{\"ns\":0,\"title\":\"Q37221610\",\"pageid\":38599366,\"size\":33483},{\"ns\":0,\"title\":\"Q37141780\",\"pageid\":38520473,\"size\":99917},{\"ns\":0,\"title\":\"Q34556799\",\"pageid\":35994786,\"size\":103713},{\"ns\":0,\"title\":\"Q28637559\",\"pageid\":30305007,\"size\":45713},{\"ns\":0,\"title\":\"Q42469169\",\"pageid\":43741280,\"size\":76624},{\"ns\":0,\"title\":\"Q42573643\",\"pageid\":43838465,\"size\":89329},{\"ns\":0,\"title\":\"Q28218216\",\"pageid\":29915889,\"size\":36357},{\"ns\":0,\"title\":\"Q34117681\",\"pageid\":35558465,\"size\":50938},{\"ns\":0,\"title\":\"Q82973311\",\"pageid\":82310032,\"size\":19808},{\"ns\":0,\"title\":\"Q88709323\",\"pageid\":87939848,\"size\":26852},{\"ns\":0,\"title\":\"Q92698635\",\"pageid\":91862735,\"size\":21260},{\"ns\":0,\"title\":\"Q71097851\",\"pageid\":70759331,\"size\":27598},{\"ns\":0,\"title\":\"Q35238414\",\"pageid\":36663761,\"size\":100706},{\"ns\":0,\"title\":\"Q36135658\",\"pageid\":37525465,\"size\":95882},{\"ns\":0,\"title\":\"Q90571318\",\"pageid\":89768439,\"size\":21828},{\"ns\":0,\"title\":\"Q91402776\",\"pageid\":90585272,\"size\":22710},{\"ns\":0,\"title\":\"Q101405087\",\"pageid\":98726831,\"size\":2241},{\"ns\":0,\"title\":\"Q37611928\",\"pageid\":38985411,\"size\":26900},{\"ns\":0,\"title\":\"Q31561161\",\"pageid\":33089382,\"size\":59378},{\"ns\":0,\"title\":\"Q49291716\",\"pageid\":50298142,\"size\":31228},{\"ns\":0,\"title\":\"Q91883220\",\"pageid\":91063411,\"size\":37900},{\"ns\":0,\"title\":\"Q92232572\",\"pageid\":91404016,\"size\":35639},{\"ns\":0,\"title\":\"Q50525246\",\"pageid\":51479043,\"size\":87368},{\"ns\":0,\"title\":\"Q63829968\",\"pageid\":63543332,\"size\":4434},{\"ns\":0,\"title\":\"Q43811529\",\"pageid\":45018457,\"size\":25898},{\"ns\":0,\"title\":\"Q36347197\",\"pageid\":37734559,\"size\":67766},{\"ns\":0,\"title\":\"Q39238015\",\"pageid\":40594983,\"size\":55600},{\"ns\":0,\"title\":\"Q39552549\",\"pageid\":40905315,\"size\":30487},{\"ns\":0,\"title\":\"Q50965572\",\"pageid\":51892548,\"size\":92755},{\"ns\":0,\"title\":\"Q59335696\",\"pageid\":59239960,\"size\":47422},{\"ns\":0,\"title\":\"Q92492337\",\"pageid\":91659770,\"size\":43730},{\"ns\":0,\"title\":\"Q50801810\",\"pageid\":51741272,\"size\":47951},{\"ns\":0,\"title\":\"Q36744551\",\"pageid\":38127170,\"size\":119187},{\"ns\":0,\"title\":\"Q47098626\",\"pageid\":48151856,\"size\":61359},{\"ns\":0,\"title\":\"Q95301283\",\"pageid\":94197779,\"size\":51709},{\"ns\":0,\"title\":\"Q37640085\",\"pageid\":39013295,\"size\":87848},{\"ns\":0,\"title\":\"Q91303275\",\"pageid\":90488793,\"size\":51593},{\"ns\":0,\"title\":\"Q46495055\",\"pageid\":47621711,\"size\":37601},{\"ns\":0,\"title\":\"Q35994230\",\"pageid\":37385663,\"size\":98337},{\"ns\":0,\"title\":\"Q40591735\",\"pageid\":41929220,\"size\":71291},{\"ns\":0,\"title\":\"Q38296272\",\"pageid\":39662144,\"size\":49339},{\"ns\":0,\"title\":\"Q40368491\",\"pageid\":41709623,\"size\":115690},{\"ns\":0,\"title\":\"Q38352593\",\"pageid\":39718161,\"size\":57214},{\"ns\":0,\"title\":\"Q41030870\",\"pageid\":42359989,\"size\":27356},{\"ns\":0,\"title\":\"Q40708584\",\"pageid\":42044120,\"size\":29481},{\"ns\":0,\"title\":\"Q89580562\",\"pageid\":88795365,\"size\":40618},{\"ns\":0,\"title\":\"Q96020190\",\"pageid\":94815553,\"size\":38968},{\"ns\":0,\"title\":\"Q41689680\",\"pageid\":43002162,\"size\":373999},{\"ns\":0,\"title\":\"Q38791508\",\"pageid\":40152533,\"size\":97806},{\"ns\":0,\"title\":\"Q40606739\",\"pageid\":41943984,\"size\":29665},{\"ns\":0,\"title\":\"Q38302691\",\"pageid\":39668539,\"size\":26339},{\"ns\":0,\"title\":\"Q38826106\",\"pageid\":40186908,\"size\":64112},{\"ns\":0,\"title\":\"Q38827901\",\"pageid\":40188691,\"size\":73990},{\"ns\":0,\"title\":\"Q40689456\",\"pageid\":42025306,\"size\":50109},{\"ns\":0,\"title\":\"Q40354541\",\"pageid\":41695850,\"size\":97108}]}}'"
      ]
     },
     "execution_count": 14,
     "metadata": {},
     "output_type": "execute_result"
    }
   ],
   "source": [
    "r.text"
   ]
  },
  {
   "cell_type": "code",
   "execution_count": 21,
   "metadata": {},
   "outputs": [],
   "source": [
    "import pandas as pd\n",
    "from pandas import json_normalize \n",
    "\n",
    "df = json_normalize(r.json()[\"query\"][\"search\"])"
   ]
  },
  {
   "cell_type": "code",
   "execution_count": 23,
   "metadata": {},
   "outputs": [
    {
     "data": {
      "text/plain": [
       "0      Q24293466\n",
       "1      Q28742133\n",
       "2      Q37221610\n",
       "3      Q37141780\n",
       "4      Q34556799\n",
       "5      Q28637559\n",
       "6      Q42469169\n",
       "7      Q42573643\n",
       "8      Q28218216\n",
       "9      Q34117681\n",
       "10     Q82973311\n",
       "11     Q88709323\n",
       "12     Q92698635\n",
       "13     Q71097851\n",
       "14     Q35238414\n",
       "15     Q36135658\n",
       "16     Q90571318\n",
       "17     Q91402776\n",
       "18    Q101405087\n",
       "19     Q37611928\n",
       "20     Q31561161\n",
       "21     Q49291716\n",
       "22     Q91883220\n",
       "23     Q92232572\n",
       "24     Q50525246\n",
       "25     Q63829968\n",
       "26     Q43811529\n",
       "27     Q36347197\n",
       "28     Q39238015\n",
       "29     Q39552549\n",
       "30     Q50965572\n",
       "31     Q59335696\n",
       "32     Q92492337\n",
       "33     Q50801810\n",
       "34     Q36744551\n",
       "35     Q47098626\n",
       "36     Q95301283\n",
       "37     Q37640085\n",
       "38     Q91303275\n",
       "39     Q46495055\n",
       "40     Q35994230\n",
       "41     Q40591735\n",
       "42     Q38296272\n",
       "43     Q40368491\n",
       "44     Q38352593\n",
       "45     Q41030870\n",
       "46     Q40708584\n",
       "47     Q89580562\n",
       "48     Q96020190\n",
       "49     Q41689680\n",
       "50     Q38791508\n",
       "51     Q40606739\n",
       "52     Q38302691\n",
       "53     Q38826106\n",
       "54     Q38827901\n",
       "55     Q40689456\n",
       "56     Q40354541\n",
       "Name: title, dtype: object"
      ]
     },
     "execution_count": 23,
     "metadata": {},
     "output_type": "execute_result"
    }
   ],
   "source": [
    "df[\"title\"]"
   ]
  },
  {
   "cell_type": "code",
   "execution_count": null,
   "metadata": {},
   "outputs": [],
   "source": []
  }
 ],
 "metadata": {
  "kernelspec": {
   "display_name": "Python 3.6.9 64-bit",
   "language": "python",
   "name": "python36964bitd70dcd0ebb2344189de0a1765c180dbd"
  },
  "language_info": {
   "codemirror_mode": {
    "name": "ipython",
    "version": 3
   },
   "file_extension": ".py",
   "mimetype": "text/x-python",
   "name": "python",
   "nbconvert_exporter": "python",
   "pygments_lexer": "ipython3",
   "version": "3.6.9"
  }
 },
 "nbformat": 4,
 "nbformat_minor": 4
}
